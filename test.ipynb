{
 "cells": [
  {
   "cell_type": "code",
   "id": "initial_id",
   "metadata": {
    "collapsed": true,
    "ExecuteTime": {
     "end_time": "2025-09-06T12:47:31.811292Z",
     "start_time": "2025-09-06T12:47:31.807472Z"
    }
   },
   "source": [
    "from pypika import Table, Query\n",
    "\n",
    "q = Query.from_('customers').select('id', 'fname', 'lname', 'phone')\n",
    "q"
   ],
   "outputs": [
    {
     "data": {
      "text/plain": [
       "SELECT \"id\",\"fname\",\"lname\",\"phone\" FROM \"customers\""
      ]
     },
     "execution_count": 5,
     "metadata": {},
     "output_type": "execute_result"
    }
   ],
   "execution_count": 5
  },
  {
   "metadata": {},
   "cell_type": "code",
   "outputs": [],
   "execution_count": null,
   "source": "",
   "id": "109954b7f6257803"
  }
 ],
 "metadata": {
  "kernelspec": {
   "display_name": "Python 3",
   "language": "python",
   "name": "python3"
  },
  "language_info": {
   "codemirror_mode": {
    "name": "ipython",
    "version": 2
   },
   "file_extension": ".py",
   "mimetype": "text/x-python",
   "name": "python",
   "nbconvert_exporter": "python",
   "pygments_lexer": "ipython2",
   "version": "2.7.6"
  }
 },
 "nbformat": 4,
 "nbformat_minor": 5
}
